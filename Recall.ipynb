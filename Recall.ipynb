{
 "cells": [
  {
   "cell_type": "markdown",
   "metadata": {},
   "source": [
    "# Recall\n",
    "\n",
    "\n",
    "As part of supervised learning, prediction from a model can classified into two categories- Regression and Classification.\n",
    "\n",
    "In Supervised learning system learns from the data that has been provided as tranining and which contains both feature and dependendent variable.  \n",
    "\n",
    "For example- If we need to predict the Salary of an employee in an organization based on the Training data with some of the features like - Employee's experience, current Salary, Location etc. Organization will also have the data set of salary that they have provided to the hired employees. With this existing set of data System can predict the salary of an employee given the features like current salary, experience etc. This is considered as Regression where the predicted value is quantitive.\n",
    "\n",
    "Now lets consider the second category Classification, suppose you have to predict the the potenial customer for buying credit card, given salary, age, Gender, past purchasing history and some other feature. If we look carefully the regression module doesn't work here the predicted data is qualitative which means we have to predict whether customer will take credit card or not.(Yes/No). We can have some other qualitative classification like user ratings which can start from very bad to very good(1 to 5) which we can consider as multi-class classification.\n",
    "\n",
    "\n",
    "As we got some basic understanding now, before we discuss about Recall let's understand Confusion Matrix and it's use in classification.\n",
    "\n",
    "In the field of machine learning and specifically in case of statistical classification, confusion matrix is a specific table layout that allows visualization of the performance of an algorithm. Each row of this matrix represents the instances in a predicted class while each column represents the instances in an actual class (or vice versa). The name has been given to understand to see if the system is confusing two classes (i.e. commonly mislabeling one as another).\n"
   ]
  },
  {
   "cell_type": "code",
   "execution_count": 1,
   "metadata": {},
   "outputs": [
    {
     "data": {
      "text/html": [
       "<img src=\"https://2.bp.blogspot.com/-EvSXDotTOwc/XMfeOGZ-CVI/AAAAAAAAEiE/oePFfvhfOQM11dgRn9FkPxlegCXbgOF4QCLcBGAs/s1600/confusionMatrxiUpdated.jpg\"/>"
      ],
      "text/plain": [
       "<IPython.core.display.Image object>"
      ]
     },
     "execution_count": 1,
     "metadata": {},
     "output_type": "execute_result"
    }
   ],
   "source": [
    "from IPython.display import Image\n",
    "\n",
    "Image(url=\"https://2.bp.blogspot.com/-EvSXDotTOwc/XMfeOGZ-CVI/AAAAAAAAEiE/oePFfvhfOQM11dgRn9FkPxlegCXbgOF4QCLcBGAs/s1600/confusionMatrxiUpdated.jpg\")"
   ]
  },
  {
   "cell_type": "markdown",
   "metadata": {},
   "source": [
    "Let's see and example - If we see the below table for spam and non-spam filter of email in a confusion matrix."
   ]
  },
  {
   "cell_type": "code",
   "execution_count": 2,
   "metadata": {},
   "outputs": [
    {
     "data": {
      "text/html": [
       "<img src=\"https://4.bp.blogspot.com/-jNSCuV2OtOY/XMfoQka3qaI/AAAAAAAAEjY/TiFX8HALafAVzu_zp5njDqOoGCqzyVouwCLcBGAs/s1600/1_001%2Bnew.jpg\"/>"
      ],
      "text/plain": [
       "<IPython.core.display.Image object>"
      ]
     },
     "execution_count": 2,
     "metadata": {},
     "output_type": "execute_result"
    }
   ],
   "source": [
    "Image(url=\"https://4.bp.blogspot.com/-jNSCuV2OtOY/XMfoQka3qaI/AAAAAAAAEjY/TiFX8HALafAVzu_zp5njDqOoGCqzyVouwCLcBGAs/s1600/1_001%2Bnew.jpg\")"
   ]
  },
  {
   "cell_type": "markdown",
   "metadata": {},
   "source": [
    "Let's understand the terms now - \n",
    "\n",
    "True Positive - As the term suggests it's the value of correctly predicted from the actual results.\n",
    "\n",
    "False Negative - These are the values in the table which predicted false but in actual it's true. For the above example model predicted the email as non-spam but in actual it's a spam. This is called Type 2 error.\n",
    "\n",
    "False Positive - These are the values in the table which predicted as true but in actual it's false. For the above example model predicted the email as spam but in it actual it's a non-spam. This is called Type 1 error.\n",
    "\n",
    "True Negative - These are the values in the table which predicted false and in actual it's false. For the above example model predicted the email as non-spam and it's actual it's non-spam."
   ]
  },
  {
   "attachments": {
    "image.png": {
     "image/png": "[encoded data removed]"
    }
   },
   "cell_type": "markdown",
   "metadata": {},
   "source": [
    "So normally we check how accurately our model predicted the values, which is called Accuracy - \n",
    "\n",
    "Accuracy = $\\frac{TP+TN}{TP+FN+FP+TN}$\n",
    "\n",
    "But accuracy will not always be the reliable metric for the real performance of the model. Because it will lead to misleading results if the data is not balanced. For example of below unbalanced data\n",
    "\n",
    "![image.png](attachment:image.png)\n",
    "\n",
    "Now for this we get an awesome accuracy of 93%. But is it a good model, the answer is no. Because the model mentioned 5 of the patients has no-cancer where they actually have and need to diagnosed.\n",
    "\n",
    "Or consider another example - Create a model to identify the terrorist board flights in airport for an year. So if we see the data from 500 milllion passengers only 11 of them are confirmed terrorists. But our prediction model mentioned all of them as not-terrorist. So we get an amazing accuracy of 99.99%. But will anyone buy this model? No way!!!\n",
    "\n",
    "Because of this unbalanced data we can't rely on accuracy for classification model. Here comes the two metrics which is important Recall and Precision.\n",
    "\n",
    "Recall/Sensitivity - Recall will be calculated as predicted postive value divided by the actual positive value. Eventually we want to get the answer of the question in what proportion did actual positives are identified correctly by the classifier.\n",
    "\n",
    "Formula - $\\frac{TP}{TP+FN}$\n",
    "\n",
    "We should always try to get high Recall value, because a model should always try to remove Type-2 error. \n",
    "\n",
    "Let's calculate the recall for above SPAM email example - \n",
    "\n",
    "R = $\\frac{45}{45+20}$ = 69.23% which actually means 69.23% correct emails are classified as Spam and excluded from non-spam emails.\n",
    "\n",
    "Along with the metrics Recall we should also calculate the value of Precision which is ratio of classified true postive example with total predicted true positive example.\n",
    "\n",
    "Formula - $\\frac{TP}{TP+FP}$\n",
    "\n",
    "From this two values we will calculate the F1-Score which is actually harmonic mean of Precision and Recall.\n",
    "\n",
    "Formula - 2*$\\frac{Precision*Recall}{Precision+Recall}$"
   ]
  },
  {
   "cell_type": "markdown",
   "metadata": {},
   "source": [
    "Let's see an example in Python - \n",
    "\n",
    "We have a IRIS data set which contains 3 different variety of flower Sentosa, Versicolor and Virginica. With their sepal and petal length and width we will try to draw a confusion matrix and find Recall, Precision, Accuracy and F1 Score."
   ]
  },
  {
   "cell_type": "code",
   "execution_count": 5,
   "metadata": {},
   "outputs": [
    {
     "name": "stdout",
     "output_type": "stream",
     "text": [
      "Here is the confusion Matrix\n",
      " [[13  0  0]\n",
      " [ 0 10  6]\n",
      " [ 0  1  8]]\n",
      "Accuracy:0.8157894736842105\n",
      "Precision:[ 1.          0.90909091  0.57142857]\n",
      "Recall:[ 1.          0.625       0.88888889]\n",
      "F1-Score:[ 1.          0.74074074  0.69565217]\n"
     ]
    }
   ],
   "source": [
    "import numpy as np\n",
    "import matplotlib.pyplot as plt\n",
    "import pandas as pd\n",
    "\n",
    "# Importing the dataset\n",
    "dataset = pd.read_csv('C:/MongoDB/Python/iris.csv')\n",
    "X = dataset.iloc[:, 0:4].values\n",
    "y = dataset['variety'].values\n",
    "\n",
    "# Encoding categorical data\n",
    "from sklearn.preprocessing import LabelEncoder, OneHotEncoder\n",
    "labelencoder = LabelEncoder()\n",
    "y = labelencoder.fit_transform(y)\n",
    "\n",
    "\n",
    "# Splitting the dataset into the Training set and Test set\n",
    "from sklearn.cross_validation import train_test_split\n",
    "X_train, X_test, y_train, y_test = train_test_split(X, y, test_size = 0.25, random_state = 0)\n",
    "\n",
    "# Feature Scaling\n",
    "from sklearn.preprocessing import StandardScaler\n",
    "sc = StandardScaler()\n",
    "X_train = sc.fit_transform(X_train)\n",
    "X_test = sc.transform(X_test)\n",
    "\n",
    "\n",
    "# Fitting Logistic Regression to the Training set\n",
    "from sklearn.linear_model import LogisticRegression\n",
    "classifier = LogisticRegression(random_state = 0)\n",
    "classifier.fit(X_train, y_train)\n",
    "\n",
    "# Predicting the Test set results\n",
    "y_pred = classifier.predict(X_test)\n",
    "\n",
    "# Making the Confusion Matrix\n",
    "from sklearn.metrics import confusion_matrix\n",
    "cm = confusion_matrix(y_test, y_pred)\n",
    "\n",
    "print('Here is the confusion Matrix\\n',cm)\n",
    "\n",
    "from sklearn.metrics import accuracy_score,precision_score,recall_score,f1_score\n",
    "ac = accuracy_score(y_test, y_pred)\n",
    "ps = precision_score(y_test,y_pred, average=None)\n",
    "rc = recall_score(y_test,y_pred,average=None)\n",
    "f_sc = f1_score(y_test,y_pred,average=None)\n",
    "\n",
    "print(\"Accuracy:{}\\nPrecision:{}\\nRecall:{}\\nF1-Score:{}\".format(ac,ps,rc,f_sc))"
   ]
  },
  {
   "cell_type": "code",
   "execution_count": null,
   "metadata": {
    "collapsed": true
   },
   "outputs": [],
   "source": []
  },
  {
   "cell_type": "code",
   "execution_count": null,
   "metadata": {
    "collapsed": true
   },
   "outputs": [],
   "source": []
  },
  {
   "cell_type": "code",
   "execution_count": null,
   "metadata": {
    "collapsed": true
   },
   "outputs": [],
   "source": []
  },
  {
   "cell_type": "code",
   "execution_count": null,
   "metadata": {
    "collapsed": true
   },
   "outputs": [],
   "source": []
  }
 ],
 "metadata": {
  "kernelspec": {
   "display_name": "Python 3",
   "language": "python",
   "name": "python3"
  },
  "language_info": {
   "codemirror_mode": {
    "name": "ipython",
    "version": 3
   },
   "file_extension": ".py",
   "mimetype": "text/x-python",
   "name": "python",
   "nbconvert_exporter": "python",
   "pygments_lexer": "ipython3",
   "version": "3.6.3"
  }
 },
 "nbformat": 4,
 "nbformat_minor": 2
}
