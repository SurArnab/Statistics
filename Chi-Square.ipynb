{
 "cells": [
  {
   "cell_type": "markdown",
   "metadata": {},
   "source": [
    "# Chi-Square\n",
    "\n",
    "We will discuss about both Chi Square(χ2) Testing and Chi Square(χ2) Distribution here. Let's start with Chi Square Distribution first.\n",
    "\n",
    "### Chi-Square Distribution\n",
    "In probability and statistics chi square distribution of k degree of freedom is the sum of square of k independent standard normal random variables. It's one of the part of Gamma distribution, and widely used in inferential statistics. Also it has been extensively used in Hypothesis Testing, and to construct the confidence intervals.\n",
    "\n",
    "Now lets understand mathematically how chi square distribution work with hypothesis testing of normal distribution.\n",
    "\n",
    "The formula for Chi square distribution is as follows- \n",
    "\n",
    "If $X_{i}$ have normal distribution with mean=0 and variance = 1 then chi-square distribution(Q)"
   ]
  },
  {
   "cell_type": "code",
   "execution_count": 5,
   "metadata": {},
   "outputs": [
    {
     "data": {
      "text/html": [
       "<img src=\"https://wikimedia.org/api/rest_v1/media/math/render/svg/613cc5993b3b61897dbc9a8d722487d86a34f406\"/>"
      ],
      "text/plain": [
       "<IPython.core.display.Image object>"
      ]
     },
     "execution_count": 5,
     "metadata": {},
     "output_type": "execute_result"
    }
   ],
   "source": [
    "from IPython.display import Image,HTML\n",
    "Image(url=\"https://wikimedia.org/api/rest_v1/media/math/render/svg/613cc5993b3b61897dbc9a8d722487d86a34f406\")"
   ]
  },
  {
   "cell_type": "markdown",
   "metadata": {},
   "source": [
    "here we are considering k degrees of freedom and $Z_{1}$ .... $Z_{k}$ independent random variable.\n",
    "\n",
    "We will have more clear understanding when we segregate the each data seaparetly.\n",
    "\n",
    "Let say for example we have Independent random variable X which is standard normally distributed. so mean=0 and variance=1 i.e\n",
    "           \n",
    "X ~ N(0,1)\n",
    "we can write it like expected value of E(X) = 0 and var(X)=1\n",
    "\n",
    "So for Chi-Square distribution formula for random variable Q will be equal to the square of independent variable $X_1$.\n",
    "\n",
    "$Q_1$ = $X_1^{2}$\n",
    "    or\n",
    "$Q_1$ ~ $χ_{1}^{2}$ -> 1 degree of freedom\n",
    "\n",
    "Now let's check for another independent random variable $X_2$ from the same normal distribution then the chi-square distribution for $Q_2$ will be - \n",
    "\n",
    "$Q_2$ = $X_1^{2}$ + $X_2^{2}$\n",
    "    or\n",
    "$Q_2$ ~ $χ_{2}^{2}$ -> 2 degrees of freedom\n",
    "\n",
    "So for 2 degree of freedom of the Chi-Square distribution is sum of 1st of independent normal random variable and 2nd independent normal random variable.\n",
    "\n",
    "Same will be applicable for 3 degree of freedom - $Q_3$ ~ $χ_{3}^{2}$\n",
    "\n",
    "this will be same for k degree of freedom - $Q_{k}$ ~ $χ_{k}^{2}$\n",
    "\n",
    "Now let's look at the Chi-Square distribution graph ---"
   ]
  },
  {
   "cell_type": "code",
   "execution_count": 8,
   "metadata": {},
   "outputs": [
    {
     "data": {
      "text/html": [
       "<img src=\"https://upload.wikimedia.org/wikipedia/commons/thumb/3/35/Chi-square_pdf.svg/321px-Chi-square_pdf.svg.png\"/>"
      ],
      "text/plain": [
       "<IPython.core.display.Image object>"
      ]
     },
     "execution_count": 8,
     "metadata": {},
     "output_type": "execute_result"
    }
   ],
   "source": [
    "Image(url=\"https://upload.wikimedia.org/wikipedia/commons/thumb/3/35/Chi-square_pdf.svg/321px-Chi-square_pdf.svg.png\")"
   ]
  },
  {
   "cell_type": "markdown",
   "metadata": {},
   "source": [
    "Now from the above graph let's try to understand the probabibilty density function varies from degree of freedom.\n",
    "\n",
    "For degree of freedom(k)=1 most of the values are within range 0, as for one single independent random variable in the normal distribution probability are more the value nearly to 0 so maximum number of values are withing that range, so from the graph we can see the probability of getting a value of 4 is less likely as we need to have a variance of 2 in the standard normal curve.\n",
    "\n",
    "So now let's check for DF(k)=2 we can see the values are still more likely towards zero but the skewness is moved towards bigger number.\n",
    "\n",
    "For DF(k)=3 we can see maximum right skewness and the graph is moving towards right.\n",
    "\n",
    "Now if you have the clear look into the graph the increase in number of degree of freedom is moving the curve towards right, for a bigger number of degrees of freedom the graph will look more like normal distribution.\n",
    "\n",
    "Here is the Probability Density Function(PDF) for chi-square distribution of k degree of freedom - \n",
    "\n",
    "f(x;\\,k)=\\begin{cases}{\\dfrac {x^{{\\frac {k}{2}}-1}e^{-{\\frac {x}{2}}}}{2^{\\frac {k}{2}}\\Gamma \\left({\\frac {k}{2}}\\right)}},&x>0;\\\\0,&{\\text{otherwise}}.\\end{cases}\n",
    "\n",
    "Now for chi-square distribution mean=k and variance = 2k where k is degree of freedom. Mode will be k-2 where k > 2\n",
    "\n",
    "\n",
    "Let's look at the below chi-square distribution graph to understand about the statistical significance- "
   ]
  },
  {
   "cell_type": "code",
   "execution_count": 9,
   "metadata": {},
   "outputs": [
    {
     "data": {
      "text/html": [
       "<img src=\"https://ib.bioninja.com.au/_Media/chi-table_med.jpeg\"/>"
      ],
      "text/plain": [
       "<IPython.core.display.Image object>"
      ]
     },
     "execution_count": 9,
     "metadata": {},
     "output_type": "execute_result"
    }
   ],
   "source": [
    "Image(url=\"https://ib.bioninja.com.au/_Media/chi-table_med.jpeg\")"
   ]
  },
  {
   "cell_type": "markdown",
   "metadata": {},
   "source": [
    "Let's say we want to know the probability of chi-square value for two degrees of freedom is greater than 2.71 or P($Q_2$>2.71)-\n",
    "\n",
    "Now if you look at the table for $Q_2$ > 2.71 we need to consider the probability of .25 or 25% area of the curve which is more than the value from the total area of the curve.\n"
   ]
  },
  {
   "cell_type": "markdown",
   "metadata": {},
   "source": [
    "### Chi-Square Test\n",
    "\n",
    "Now as we understand about chi-square distribution let's find out the implementation using chi-square test.\n",
    "\n",
    "Chi-Square test is the statistical hypothesis which is mostly used in Hypothesis Testing.\n",
    "Chi-Square testing are of two types-\n",
    "    1) Goodness of Fit - In this test we will try to understand the sample data matches a population\n",
    "    2) test for Indepndence - Compare two variables in contingency table to see if they are related. Small chi-square test statistics means the observed data fits the expected data very well.\n",
    "    \n",
    "\n",
    "Let's have the formula of Chi-Square Test- \n",
    "\n",
    "χ2 = $ \\sum \\frac{(Observed-expected)^{2}}{expected} $\n",
    "\n",
    "\n",
    "Let's see few example to understand how the chi-square test can help in Hypothesis Testing -"
   ]
  },
  {
   "attachments": {
    "image.png": {
     "image/png": "[encoded data removed]"
    }
   },
   "cell_type": "markdown",
   "metadata": {},
   "source": [
    "#### Problem Statement 1 - \n",
    "Let's say you visited a college and administration mentioned the ration of Male and Female student is 50:50, But it's not possible to calculate the each and every one the college. So let's take a sample of 20 people and try to understand the chi-square test for Hypothesis testing.\n",
    "\n",
    "\n",
    "So as the Administration mentioned about 50:50 ratio we will consider this as null Hypothesis. So our Null Hypothesis for gender distribution in college is 50:50 or Prediction will be 10 Male and 10 Female.\n",
    "\n",
    "Let's say after the observation we received the ratio of Male and Female is - 13 and 7. Now from this observed data we will try to calculate if the Null Hypothesis is still true.\n",
    "\n",
    "![image.png](attachment:image.png)\n",
    "\n",
    "\n",
    "Chi-Squared Value = .9 +.9 = 1.8\n",
    "\n",
    "Now if we look at the above PDF table we will see for degree of freedom(1). It has been agreed upon scientist that signfication level of 0.05 or 5% can be considered as null hypothesis is true. So we can claim that if the chi-squared value is less than P of 0.05 then we can't reject the null hypothesis which means we can't reject the statement of Administration of 50:50 gender ratio.\n",
    "\n",
    "But if we consider the observered result of 16:4 gender ratio which will give us the chi-square test as 7.2. This value is greater than 3.84 then we can reject the null hypothesis."
   ]
  },
  {
   "attachments": {
    "image.png": {
     "image/png": "[encoded data removed]"
    }
   },
   "cell_type": "markdown",
   "metadata": {},
   "source": [
    "#### Problem Statement 2 - \n",
    "\n",
    "Milk chocolate company MnM claims that produces chocolate in following frequency - \n",
    "\n",
    "30% Brown\n",
    "20% yellow\n",
    "20% red\n",
    "10% orange\n",
    "10% green\n",
    "10% blue\n",
    "\n",
    "Let's say you have opened a bag of MnM and count the cholocate- \n",
    "Brown - 24\n",
    "yellow - 28\n",
    "red - 13\n",
    "orange - 12\n",
    "green - 6\n",
    "blue -  17\n",
    "\n",
    "Let's check the chi-square test to find out the Hypothesis is true or not - \n",
    "\n",
    "![image.png](attachment:image.png)\n",
    "\n",
    "\n",
    "Chi-Square test value - 13.75. For 5 degree of freedom, 0.05 probability is 11.07 which is less than the chi-square value. So we can reject the null hypothesis.\n"
   ]
  },
  {
   "cell_type": "code",
   "execution_count": 14,
   "metadata": {},
   "outputs": [
    {
     "name": "stdout",
     "output_type": "stream",
     "text": [
      "[[10, 20, 30], [6, 9, 17]]\n",
      "dof=2\n",
      "probability=0.950, critical=5.991, stat=0.272\n",
      "Independent (fail to reject H0)\n",
      "significance=0.050, p=0.873\n",
      "Independent (fail to reject H0)\n"
     ]
    }
   ],
   "source": [
    "# chi-squared test with similar proportions\n",
    "from scipy.stats import chi2_contingency\n",
    "from scipy.stats import chi2\n",
    "# contingency table\n",
    "table = [[10, 20, 30],[6,  9,  17]]\n",
    "print(table)\n",
    "stat, p, dof, expected = chi2_contingency(table)\n",
    "print('dof=%d' % dof)\n",
    "# interpret test-statistic\n",
    "prob = 0.95\n",
    "critical = chi2.ppf(prob, dof)\n",
    "print('probability=%.3f, critical=%.3f, stat=%.3f' % (prob, critical, stat))\n",
    "if abs(stat) >= critical:\n",
    "\tprint('Dependent (reject H0)')\n",
    "else:\n",
    "\tprint('Independent (fail to reject H0)')\n",
    "# interpret p-value\n",
    "alpha = 1.0 - prob\n",
    "print('significance=%.3f, p=%.3f' % (alpha, p))\n",
    "if p <= alpha:\n",
    "\tprint('Dependent (reject H0)')\n",
    "else:\n",
    "\tprint('Independent (fail to reject H0)')\n"
   ]
  },
  {
   "cell_type": "code",
   "execution_count": null,
   "metadata": {},
   "outputs": [],
   "source": []
  },
  {
   "cell_type": "code",
   "execution_count": null,
   "metadata": {},
   "outputs": [],
   "source": []
  },
  {
   "cell_type": "code",
   "execution_count": null,
   "metadata": {},
   "outputs": [],
   "source": []
  },
  {
   "cell_type": "code",
   "execution_count": null,
   "metadata": {},
   "outputs": [],
   "source": []
  },
  {
   "cell_type": "code",
   "execution_count": null,
   "metadata": {},
   "outputs": [],
   "source": []
  },
  {
   "cell_type": "code",
   "execution_count": null,
   "metadata": {},
   "outputs": [],
   "source": []
  },
  {
   "cell_type": "code",
   "execution_count": null,
   "metadata": {},
   "outputs": [],
   "source": []
  },
  {
   "cell_type": "code",
   "execution_count": null,
   "metadata": {},
   "outputs": [],
   "source": []
  },
  {
   "cell_type": "code",
   "execution_count": null,
   "metadata": {},
   "outputs": [],
   "source": []
  },
  {
   "cell_type": "code",
   "execution_count": null,
   "metadata": {},
   "outputs": [],
   "source": []
  },
  {
   "cell_type": "code",
   "execution_count": null,
   "metadata": {},
   "outputs": [],
   "source": []
  },
  {
   "cell_type": "code",
   "execution_count": null,
   "metadata": {},
   "outputs": [],
   "source": []
  },
  {
   "cell_type": "code",
   "execution_count": null,
   "metadata": {},
   "outputs": [],
   "source": []
  },
  {
   "cell_type": "code",
   "execution_count": null,
   "metadata": {},
   "outputs": [],
   "source": []
  },
  {
   "cell_type": "code",
   "execution_count": null,
   "metadata": {},
   "outputs": [],
   "source": []
  },
  {
   "cell_type": "code",
   "execution_count": null,
   "metadata": {},
   "outputs": [],
   "source": []
  },
  {
   "cell_type": "code",
   "execution_count": null,
   "metadata": {},
   "outputs": [],
   "source": []
  },
  {
   "cell_type": "code",
   "execution_count": null,
   "metadata": {},
   "outputs": [],
   "source": []
  },
  {
   "cell_type": "code",
   "execution_count": null,
   "metadata": {},
   "outputs": [],
   "source": []
  },
  {
   "cell_type": "code",
   "execution_count": null,
   "metadata": {},
   "outputs": [],
   "source": []
  },
  {
   "cell_type": "code",
   "execution_count": null,
   "metadata": {},
   "outputs": [],
   "source": []
  },
  {
   "cell_type": "code",
   "execution_count": null,
   "metadata": {},
   "outputs": [],
   "source": []
  },
  {
   "cell_type": "code",
   "execution_count": null,
   "metadata": {},
   "outputs": [],
   "source": []
  },
  {
   "cell_type": "code",
   "execution_count": null,
   "metadata": {},
   "outputs": [],
   "source": []
  },
  {
   "cell_type": "code",
   "execution_count": null,
   "metadata": {},
   "outputs": [],
   "source": []
  },
  {
   "cell_type": "code",
   "execution_count": null,
   "metadata": {},
   "outputs": [],
   "source": []
  },
  {
   "cell_type": "code",
   "execution_count": null,
   "metadata": {},
   "outputs": [],
   "source": []
  },
  {
   "cell_type": "code",
   "execution_count": null,
   "metadata": {},
   "outputs": [],
   "source": []
  },
  {
   "cell_type": "code",
   "execution_count": null,
   "metadata": {},
   "outputs": [],
   "source": []
  },
  {
   "cell_type": "code",
   "execution_count": null,
   "metadata": {},
   "outputs": [],
   "source": []
  },
  {
   "cell_type": "code",
   "execution_count": null,
   "metadata": {},
   "outputs": [],
   "source": []
  },
  {
   "cell_type": "code",
   "execution_count": null,
   "metadata": {},
   "outputs": [],
   "source": []
  },
  {
   "cell_type": "code",
   "execution_count": null,
   "metadata": {},
   "outputs": [],
   "source": []
  },
  {
   "cell_type": "code",
   "execution_count": null,
   "metadata": {},
   "outputs": [],
   "source": []
  },
  {
   "cell_type": "code",
   "execution_count": null,
   "metadata": {},
   "outputs": [],
   "source": []
  },
  {
   "cell_type": "code",
   "execution_count": null,
   "metadata": {},
   "outputs": [],
   "source": []
  },
  {
   "cell_type": "code",
   "execution_count": null,
   "metadata": {},
   "outputs": [],
   "source": []
  }
 ],
 "metadata": {
  "kernelspec": {
   "display_name": "Python 3",
   "language": "python",
   "name": "python3"
  },
  "language_info": {
   "codemirror_mode": {
    "name": "ipython",
    "version": 3
   },
   "file_extension": ".py",
   "mimetype": "text/x-python",
   "name": "python",
   "nbconvert_exporter": "python",
   "pygments_lexer": "ipython3",
   "version": "3.7.3"
  }
 },
 "nbformat": 4,
 "nbformat_minor": 2
}
